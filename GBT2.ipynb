{
  "nbformat": 4,
  "nbformat_minor": 0,
  "metadata": {
    "colab": {
      "name": "GBT2.ipynb",
      "provenance": [],
      "collapsed_sections": [],
      "toc_visible": true,
      "include_colab_link": true
    },
    "kernelspec": {
      "name": "python3",
      "display_name": "Python 3"
    }
  },
  "cells": [
    {
      "cell_type": "markdown",
      "metadata": {
        "id": "view-in-github",
        "colab_type": "text"
      },
      "source": [
        "<a href=\"https://colab.research.google.com/github/ablanco1950/ABALONE_DECISIONTREE_C4-5/blob/main/GBT2.ipynb\" target=\"_parent\"><img src=\"https://colab.research.google.com/assets/colab-badge.svg\" alt=\"Open In Colab\"/></a>"
      ]
    },
    {
      "cell_type": "code",
      "metadata": {
        "id": "e9o7sdZQQ62p"
      },
      "source": [
        "import pandas as pd\n",
        "import numpy as np\n",
        "import sklearn\n",
        "from sklearn.ensemble import RandomForestRegressor\n",
        "from sklearn.model_selection import train_test_split\n",
        "from sklearn.metrics import mean_squared_error\n",
        "import xgboost as xgb\n",
        "from xgboost import XGBClassifier, plot_tree\n",
        "from sklearn.metrics import accuracy_score\n",
        "import matplotlib.pyplot as plt\n",
        "from sklearn.tree import export_graphviz\n",
        "import time\n",
        "from sklearn.neighbors import KNeighborsClassifier\n",
        "from sklearn.ensemble import RandomForestClassifier"
      ],
      "execution_count": 6,
      "outputs": []
    },
    {
      "cell_type": "code",
      "metadata": {
        "id": "iW61uPErR45z"
      },
      "source": [
        "mnist = pd.read_csv(\"sample_data/mnist_train_small.csv\")\n",
        "x = mnist[mnist.columns.difference([\"6\"])]\n",
        "y = mnist[\"6\"]\n",
        "x_train_val, x_test, y_train_val, y_test = train_test_split(x, y, test_size=0.2)\n",
        "x_train, x_val, y_train, y_val = train_test_split(x_train_val, y_train_val, test_size=0.2)\n"
      ],
      "execution_count": null,
      "outputs": []
    },
    {
      "cell_type": "code",
      "metadata": {
        "id": "sLiPBjlie7MX",
        "colab": {
          "base_uri": "https://localhost:8080/"
        },
        "outputId": "d6f7b0f4-6318-43c3-df61-5142cbf817c3"
      },
      "source": [
        "model = RandomForestRegressor(50, max_depth=15, max_features=15)\n",
        "model.fit(x_train, y_train)\n",
        "print(model.score(x_val, y_val))"
      ],
      "execution_count": 11,
      "outputs": [
        {
          "output_type": "stream",
          "name": "stdout",
          "text": [
            "0.8324811230375739\n"
          ]
        }
      ]
    },
    {
      "cell_type": "code",
      "metadata": {
        "id": "Zt1_0U_MnyVR",
        "colab": {
          "base_uri": "https://localhost:8080/"
        },
        "outputId": "c88a1052-a860-4e24-d315-9b176bfed2b4"
      },
      "source": [
        "model3 = KNeighborsClassifier(n_neighbors=3)\n",
        "\n",
        "model3.fit(x_train, y_train)\n",
        "print(model3.score(x_val, y_val))"
      ],
      "execution_count": 10,
      "outputs": [
        {
          "output_type": "stream",
          "name": "stdout",
          "text": [
            "0.9525\n"
          ]
        }
      ]
    },
    {
      "cell_type": "code",
      "metadata": {
        "id": "9t_TdFmaLqGx",
        "outputId": "dbd7932b-eb75-404c-ce9e-13a52ccb229a",
        "colab": {
          "base_uri": "https://localhost:8080/"
        }
      },
      "source": [
        "model4 = RandomForestClassifier(50, max_depth=15, max_features=15)\n",
        "model4.fit(x_train, y_train)\n",
        "print(model4.score(x_val, y_val))"
      ],
      "execution_count": 9,
      "outputs": [
        {
          "output_type": "stream",
          "name": "stdout",
          "text": [
            "0.945625\n"
          ]
        }
      ]
    }
  ]
}